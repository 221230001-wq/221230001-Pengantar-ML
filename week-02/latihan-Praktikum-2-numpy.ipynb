{
  "cells": [
    {
      "cell_type": "markdown",
      "id": "77f2e14d",
      "metadata": {
        "id": "77f2e14d"
      },
      "source": [
        "# Praktikum 2: Komputasi Numerik dengan NumPy Array\n",
        "\n",
        "<a href=\"https://colab.research.google.com/github/pakizhan-ump/ml-umpontianak/blob/main/Modules/Week-02/Praktikum-02/Praktikum_2_numpy.ipynb\" target=\"_parent\"><img src=\"https://colab.research.google.com/assets/colab-badge.svg\" alt=\"Open In Colab\"/></a>\n",
        "\n",
        "## 🎯 Tujuan Praktikum\n",
        "Mahasiswa mampu menggunakan library **NumPy** untuk membuat dan memanipulasi array multidimensi serta memahami keunggulannya dibandingkan List untuk komputasi numerik.\n",
        "\n",
        "## 📖 Dasar Teori\n",
        "**NumPy (Numerical Python)** adalah library fundamental untuk komputasi ilmiah di Python. Struktur data utamanya adalah **ndarray (n-dimensional array)**, yang dirancang khusus untuk operasi numerik yang efisien. Keunggulan utamanya meliputi:\n",
        "* **Homogeneous:** Semua elemen dalam sebuah array harus memiliki tipe data yang sama (misalnya, semua `float64` atau semua `int32`), yang memungkinkan penyimpanan memori yang lebih efisien.\n",
        "* **Ukuran Tetap:** Ukuran array ditentukan saat pembuatan, membuatnya lebih dapat diprediksi dalam hal alokasi memori.\n",
        "* **Efisiensi Memori & Kecepatan:** Operasi matematika pada NumPy array jauh lebih cepat karena dieksekusi oleh kode C yang terkompilasi, bukan melalui interpreter Python.\n",
        "* **Mendukung Operasi Vektorisasi:** Memungkinkan operasi matematika dilakukan pada seluruh elemen array secara bersamaan tanpa perlu menulis *loop* `for`, membuat kode lebih ringkas dan cepat.\n",
        "\n",
        "Dalam machine learning, data seperti gambar (matriks piksel), sinyal audio, atau fitur-fitur numerik hampir selalu direpresentasikan sebagai NumPy array."
      ]
    },
    {
      "cell_type": "code",
      "execution_count": 1,
      "id": "6290131d",
      "metadata": {
        "id": "6290131d"
      },
      "outputs": [],
      "source": [
        "import numpy as np"
      ]
    },
    {
      "cell_type": "markdown",
      "id": "4fc7c7b4",
      "metadata": {
        "id": "4fc7c7b4"
      },
      "source": [
        "# 🔧 OPERASI FUNDAMENTAL NUMPY\n",
        "\n",
        "# 1. ARRAY CREATION & TYPES"
      ]
    },
    {
      "cell_type": "code",
      "execution_count": 2,
      "id": "30646851",
      "metadata": {
        "colab": {
          "base_uri": "https://localhost:8080/"
        },
        "id": "30646851",
        "outputId": "a94849ff-4f6a-44c2-8836-9748cf723476"
      },
      "outputs": [
        {
          "output_type": "stream",
          "name": "stdout",
          "text": [
            "=== ARRAY CREATION ===\n",
            "1D array shape: (5,)\n",
            "2D array shape: (2, 3)\n",
            "3D array shape: (2, 3, 4)\n"
          ]
        }
      ],
      "source": [
        "print(\"=== ARRAY CREATION ===\")\n",
        "arr1d = np.array([1, 2, 3, 4, 5])                    # 1D array\n",
        "arr2d = np.array([[1, 2, 3], [4, 5, 6]])            # 2D array\n",
        "arr3d = np.random.rand(2, 3, 4)                     # 3D random array\n",
        "\n",
        "print(\"1D array shape:\", arr1d.shape)\n",
        "print(\"2D array shape:\", arr2d.shape)\n",
        "print(\"3D array shape:\", arr3d.shape)"
      ]
    },
    {
      "cell_type": "markdown",
      "id": "b0e2f682",
      "metadata": {
        "id": "b0e2f682"
      },
      "source": [
        "# 2. DATA TYPES"
      ]
    },
    {
      "cell_type": "code",
      "execution_count": 3,
      "id": "7efe2214",
      "metadata": {
        "colab": {
          "base_uri": "https://localhost:8080/"
        },
        "id": "7efe2214",
        "outputId": "58b2f4af-3577-44c4-8cf5-59e091a38878"
      },
      "outputs": [
        {
          "output_type": "stream",
          "name": "stdout",
          "text": [
            "Data types:\n",
            "arr_int dtype: int32\n",
            "arr_float dtype: float64\n"
          ]
        }
      ],
      "source": [
        "arr_int = np.array([1, 2, 3], dtype=np.int32)\n",
        "arr_float = np.array([1.0, 2.0, 3.0], dtype=np.float64)\n",
        "arr_bool = np.array([True, False, True])\n",
        "\n",
        "print(\"Data types:\")\n",
        "print(\"arr_int dtype:\", arr_int.dtype)\n",
        "print(\"arr_float dtype:\", arr_float.dtype)"
      ]
    },
    {
      "cell_type": "markdown",
      "id": "b81b12e6",
      "metadata": {
        "id": "b81b12e6"
      },
      "source": [
        "# 3. ACCESS & SLICING"
      ]
    },
    {
      "cell_type": "code",
      "execution_count": 4,
      "id": "60d386db",
      "metadata": {
        "colab": {
          "base_uri": "https://localhost:8080/"
        },
        "id": "60d386db",
        "outputId": "36271772-462b-4b98-db79-15a8db4c000d"
      },
      "outputs": [
        {
          "output_type": "stream",
          "name": "stdout",
          "text": [
            "\n",
            "=== ACCESS & SLICING ===\n",
            "Element [1,2]: 7\n",
            "Row 1: [5 6 7 8]\n",
            "Column 2: [ 3  7 11]\n",
            "Submatrix 2x2:\n",
            " [[2 3]\n",
            " [6 7]]\n",
            "Every other row:\n",
            " [[ 1  2  3  4]\n",
            " [ 9 10 11 12]]\n"
          ]
        }
      ],
      "source": [
        "matrix = np.array([[1, 2, 3, 4],\n",
        "                   [5, 6, 7, 8],\n",
        "                   [9, 10, 11, 12]])\n",
        "\n",
        "print(\"\\n=== ACCESS & SLICING ===\")\n",
        "print(\"Element [1,2]:\", matrix[1, 2])                # Single element\n",
        "print(\"Row 1:\", matrix[1, :])                        # Entire row\n",
        "print(\"Column 2:\", matrix[:, 2])                     # Entire column\n",
        "print(\"Submatrix 2x2:\\n\", matrix[0:2, 1:3])          # Submatrix\n",
        "print(\"Every other row:\\n\", matrix[::2, :])          # Step slicing"
      ]
    },
    {
      "cell_type": "markdown",
      "id": "6270202a",
      "metadata": {
        "id": "6270202a"
      },
      "source": [
        "# 4. RESHAPING"
      ]
    },
    {
      "cell_type": "code",
      "execution_count": 5,
      "id": "4754402a",
      "metadata": {
        "colab": {
          "base_uri": "https://localhost:8080/"
        },
        "id": "4754402a",
        "outputId": "b773e637-e816-4034-c55f-9904f26922c7"
      },
      "outputs": [
        {
          "output_type": "stream",
          "name": "stdout",
          "text": [
            "\n",
            "=== RESHAPING ===\n",
            "Original shape: (12,)\n",
            "Reshaped 3x4:\n",
            " [[ 0  1  2  3]\n",
            " [ 4  5  6  7]\n",
            " [ 8  9 10 11]]\n",
            "Transposed 4x3:\n",
            " [[ 0  4  8]\n",
            " [ 1  5  9]\n",
            " [ 2  6 10]\n",
            " [ 3  7 11]]\n",
            "Flattened: [ 0  1  2  3  4  5  6  7  8  9 10 11]\n"
          ]
        }
      ],
      "source": [
        "print(\"\\n=== RESHAPING ===\")\n",
        "arr = np.arange(12)                                  # 0-11\n",
        "print(\"Original shape:\", arr.shape)\n",
        "reshaped = arr.reshape(3, 4)                        # Reshape to 3x4\n",
        "flattened = reshaped.flatten()                      # Back to 1D\n",
        "transposed = reshaped.T                             # Transpose\n",
        "\n",
        "print(\"Reshaped 3x4:\\n\", reshaped)\n",
        "print(\"Transposed 4x3:\\n\", transposed)\n",
        "print(\"Flattened:\", flattened)"
      ]
    },
    {
      "cell_type": "markdown",
      "id": "68a91f34",
      "metadata": {
        "id": "68a91f34"
      },
      "source": [
        "# 5. MATHEMATICAL OPERATIONS"
      ]
    },
    {
      "cell_type": "code",
      "execution_count": 6,
      "id": "b5d8e2a0",
      "metadata": {
        "colab": {
          "base_uri": "https://localhost:8080/"
        },
        "id": "b5d8e2a0",
        "outputId": "4d30093c-db9b-4f39-8800-f5d2ce3f6b35"
      },
      "outputs": [
        {
          "output_type": "stream",
          "name": "stdout",
          "text": [
            "\n",
            "=== MATHEMATICAL OPERATIONS ===\n",
            "a + b = [5 7 9]\n",
            "a * b = [ 4 10 18]\n",
            "a ** 2 = [1 4 9]\n",
            "np.dot(a, b) = 32\n"
          ]
        }
      ],
      "source": [
        "print(\"\\n=== MATHEMATICAL OPERATIONS ===\")\n",
        "a = np.array([1, 2, 3])\n",
        "b = np.array([4, 5, 6])\n",
        "\n",
        "print(\"a + b =\", a + b)                             # Element-wise add\n",
        "print(\"a * b =\", a * b)                             # Element-wise multiply\n",
        "print(\"a ** 2 =\", a ** 2)                           # Power\n",
        "print(\"np.dot(a, b) =\", np.dot(a, b))               # Dot product"
      ]
    },
    {
      "cell_type": "markdown",
      "id": "1361c21b",
      "metadata": {
        "id": "1361c21b"
      },
      "source": [
        "# 6. AGGREGATION"
      ]
    },
    {
      "cell_type": "code",
      "execution_count": 7,
      "id": "c4309086",
      "metadata": {
        "colab": {
          "base_uri": "https://localhost:8080/"
        },
        "id": "c4309086",
        "outputId": "8a51ca93-b593-4bfd-ed0e-199799c8679a"
      },
      "outputs": [
        {
          "output_type": "stream",
          "name": "stdout",
          "text": [
            "\n",
            "=== AGGREGATION ===\n",
            "Data:\n",
            " [[0.66696757 0.83006066 0.50067015 0.72796391]\n",
            " [0.17552716 0.1325406  0.90279381 0.60257077]\n",
            " [0.42353525 0.47514293 0.27559082 0.79843927]\n",
            " [0.55722158 0.352223   0.78795767 0.61671535]\n",
            " [0.19731046 0.1854258  0.69253556 0.01169695]]\n",
            "Sum all: 9.912889268457183\n",
            "Mean all: 0.49564446342285917\n",
            "Std all: 0.25837103051851334\n",
            "Sum columns: [2.02056202 1.97539299 3.15954801 2.75738625]\n",
            "Mean rows: [0.68141557 0.45335809 0.49317707 0.5785294  0.27174219]\n"
          ]
        }
      ],
      "source": [
        "print(\"\\n=== AGGREGATION ===\")\n",
        "data = np.random.rand(5, 4)                         # 5x4 random data\n",
        "print(\"Data:\\n\", data)\n",
        "print(\"Sum all:\", np.sum(data))\n",
        "print(\"Mean all:\", np.mean(data))\n",
        "print(\"Std all:\", np.std(data))\n",
        "print(\"Sum columns:\", np.sum(data, axis=0))         # Along columns\n",
        "print(\"Mean rows:\", np.mean(data, axis=1))          # Along rows"
      ]
    },
    {
      "cell_type": "markdown",
      "id": "6e1e7f85",
      "metadata": {
        "id": "6e1e7f85"
      },
      "source": [
        "# 7. BROADCASTING"
      ]
    },
    {
      "cell_type": "code",
      "execution_count": 8,
      "id": "dbee1465",
      "metadata": {
        "colab": {
          "base_uri": "https://localhost:8080/"
        },
        "id": "dbee1465",
        "outputId": "1f9cd540-7ee0-455c-db99-21f6b0d5e0eb"
      },
      "outputs": [
        {
          "output_type": "stream",
          "name": "stdout",
          "text": [
            "\n",
            "=== BROADCASTING ===\n",
            "Matrix + Vector:\n",
            " [[11 22 33]\n",
            " [14 25 36]]\n"
          ]
        }
      ],
      "source": [
        "print(\"\\n=== BROADCASTING ===\")\n",
        "matrix = np.array([[1, 2, 3], [4, 5, 6]])\n",
        "vector = np.array([10, 20, 30])\n",
        "\n",
        "result = matrix + vector                            # Broadcasting\n",
        "print(\"Matrix + Vector:\\n\", result)"
      ]
    },
    {
      "cell_type": "markdown",
      "id": "1695d8bb",
      "metadata": {
        "id": "1695d8bb"
      },
      "source": [
        "# 8. RANDOM OPERATIONS"
      ]
    },
    {
      "cell_type": "code",
      "execution_count": 9,
      "id": "f09e1c8a",
      "metadata": {
        "colab": {
          "base_uri": "https://localhost:8080/"
        },
        "id": "f09e1c8a",
        "outputId": "c23e7362-6ec2-4243-f9fa-fa5d9f58d7f7"
      },
      "outputs": [
        {
          "output_type": "stream",
          "name": "stdout",
          "text": [
            "\n",
            "=== RANDOM OPERATIONS ===\n",
            "Uniform random:\n",
            " [[0.07120715 0.61192351 0.36306125]\n",
            " [0.81133769 0.28943318 0.85401235]\n",
            " [0.86202348 0.87925113 0.999382  ]]\n",
            "Normal random:\n",
            " [[ 0.65704245 -0.87321077  0.21639513]\n",
            " [-0.65239422 -1.48926219 -1.25284271]\n",
            " [ 0.11736275 -0.71583435  0.34680067]]\n",
            "Random integers:\n",
            " [[10 32 29]\n",
            " [16 94  8]\n",
            " [67 69 72]]\n"
          ]
        }
      ],
      "source": [
        "print(\"\\n=== RANDOM OPERATIONS ===\")\n",
        "random_arr = np.random.rand(3, 3)                   # Uniform [0,1)\n",
        "normal_arr = np.random.randn(3, 3)                  # Normal distribution\n",
        "integers = np.random.randint(0, 100, (3, 3))        # Random integers\n",
        "\n",
        "print(\"Uniform random:\\n\", random_arr)\n",
        "print(\"Normal random:\\n\", normal_arr)\n",
        "print(\"Random integers:\\n\", integers)"
      ]
    },
    {
      "cell_type": "markdown",
      "id": "841e508d",
      "metadata": {
        "id": "841e508d"
      },
      "source": [
        "# 9. SPLITTING & JOINING"
      ]
    },
    {
      "cell_type": "code",
      "execution_count": 10,
      "id": "8f070add",
      "metadata": {
        "colab": {
          "base_uri": "https://localhost:8080/"
        },
        "id": "8f070add",
        "outputId": "b2f997f6-e774-46ad-d852-13daa35c8e26"
      },
      "outputs": [
        {
          "output_type": "stream",
          "name": "stdout",
          "text": [
            "\n",
            "=== SPLITTING & JOINING ===\n",
            "Original:\n",
            " [[ 0  1  2  3]\n",
            " [ 4  5  6  7]\n",
            " [ 8  9 10 11]]\n",
            "After split:\n",
            "Part 0:\n",
            "[[0 1 2 3]]\n",
            "Part 1:\n",
            "[[4 5 6 7]]\n",
            "Part 2:\n",
            "[[ 8  9 10 11]]\n",
            "After concatenation:\n",
            " [[1 2]\n",
            " [3 4]\n",
            " [5 6]]\n"
          ]
        }
      ],
      "source": [
        "print(\"\\n=== SPLITTING & JOINING ===\")\n",
        "arr = np.arange(12).reshape(3, 4)\n",
        "sub_arrays = np.split(arr, 3, axis=0)               # Split along rows\n",
        "print(\"Original:\\n\", arr)\n",
        "print(\"After split:\")\n",
        "for i, sub in enumerate(sub_arrays):\n",
        "    print(f\"Part {i}:\\n{sub}\")\n",
        "\n",
        "# Joining arrays\n",
        "arr1 = np.array([[1, 2], [3, 4]])\n",
        "arr2 = np.array([[5, 6]])\n",
        "joined = np.concatenate([arr1, arr2], axis=0)       # Vertical join\n",
        "print(\"After concatenation:\\n\", joined)"
      ]
    },
    {
      "cell_type": "markdown",
      "id": "8d4fc396",
      "metadata": {
        "id": "8d4fc396"
      },
      "source": [
        "# 10. CONDITIONAL OPERATIONS"
      ]
    },
    {
      "cell_type": "code",
      "execution_count": 11,
      "id": "4f168da2",
      "metadata": {
        "colab": {
          "base_uri": "https://localhost:8080/"
        },
        "id": "4f168da2",
        "outputId": "870f1d98-ba5d-46ea-d69f-7758a4372c8e"
      },
      "outputs": [
        {
          "output_type": "stream",
          "name": "stdout",
          "text": [
            "\n",
            "=== CONDITIONAL OPERATIONS ===\n",
            "Data > 30: [45 50 65]\n",
            "Where > 30 else 0: [ 0  0  0 45 50 65]\n"
          ]
        }
      ],
      "source": [
        "print(\"\\n=== CONDITIONAL OPERATIONS ===\")\n",
        "data = np.array([10, 25, 30, 45, 50, 65])\n",
        "mask = data > 30                                    # Boolean mask\n",
        "filtered = data[mask]                               # Filter with mask\n",
        "print(\"Data > 30:\", filtered)\n",
        "\n",
        "# Where operation\n",
        "result = np.where(data > 30, data, 0)               # Replace conditionally\n",
        "print(\"Where > 30 else 0:\", result)"
      ]
    },
    {
      "cell_type": "markdown",
      "id": "be6c38bd",
      "metadata": {
        "id": "be6c38bd"
      },
      "source": [
        "# 🏋️ LATIHAN 2: OPERASI NUMPY UNTUK MACHINE LEARNING\n",
        "\n",
        "### DATA PREPROCESSING DENGAN NUMPY ###"
      ]
    },
    {
      "cell_type": "code",
      "execution_count": 17,
      "id": "3991fe2e",
      "metadata": {
        "colab": {
          "base_uri": "https://localhost:8080/"
        },
        "id": "3991fe2e",
        "outputId": "c8de6a8e-e502-41a8-fbc1-f739268439e1"
      },
      "outputs": [
        {
          "output_type": "stream",
          "name": "stdout",
          "text": [
            "✅ NumPy operations completed\n",
            "\n",
            "Shape of X_train: (80, 5)\n",
            "Shape of X_test: (20, 5)\n",
            "\n",
            "Contoh One-Hot Encoding:\n",
            "[[1. 0. 0.]\n",
            " [0. 1. 0.]\n",
            " [0. 0. 1.]\n",
            " [1. 0. 0.]\n",
            " [0. 1. 0.]\n",
            " [0. 0. 1.]\n",
            " [1. 0. 0.]]\n"
          ]
        }
      ],
      "source": [
        "'''TODO: Implementasi Preprocessing Pipeline'''\n",
        "# Dataset simulasi: 100 samples, 5 features\n",
        "np.random.seed(42)\n",
        "X = np.random.randn(100, 5) * 10 + 5  # Mean=5, Std=10\n",
        "\n",
        "# TODO 1: Normalisasi Z-score: (x - mean) / std\n",
        "def z_score_normalization(data):\n",
        "    # TODO: Implementasi Z-score normalization\n",
        "    \"\"\"Normalisasi data per kolom (fitur) menggunakan Z-score.\"\"\"\n",
        "    # Hitung mean dan standar deviasi untuk setiap kolom (axis=0)\n",
        "    mean_per_feature = np.mean(data, axis=0)\n",
        "    std_per_feature = np.std(data, axis=0)\n",
        "\n",
        "    # Tambahkan nilai kecil (epsilon) untuk menghindari pembagian dengan nol\n",
        "    return (data - mean_per_feature) / (std_per_feature + 1e-8)\n",
        "\n",
        "X_normalized = z_score_normalization(X)\n",
        "\n",
        "# TODO 2: Handle outliers - replace values beyond 3 std with boundaries\n",
        "def handle_outliers(data, std_threshold=3):\n",
        "    # TODO: Handle outliers using std threshold\n",
        "    \"\"\"Mengganti outlier dengan nilai batas menggunakan np.clip.\"\"\"\n",
        "    # np.clip akan membatasi semua nilai dalam array 'data'\n",
        "    # agar berada di antara -std_threshold dan +std_threshold.\n",
        "    return np.clip(data, -std_threshold, std_threshold)\n",
        "\n",
        "X_cleaned = handle_outliers(X_normalized)\n",
        "\n",
        "# TODO 3: One-hot encoding untuk label kategorikal\n",
        "def one_hot_encoding(labels):\n",
        "    # TODO: Convert categorical labels to one-hot encoding\n",
        "    # Input: [0, 1, 2, 0, 1] -> Output: 2D one-hot array\n",
        "    \"\"\"Mengubah array 1D berisi label integer menjadi format 2D one-hot.\"\"\"\n",
        "    # Cari tahu jumlah kelas unik (misal: jika max label adalah 2, maka ada kelas 0, 1, 2)\n",
        "    num_classes = np.max(labels) + 1\n",
        "    # Buat matriks nol dengan shape (jumlah_label, jumlah_kelas)\n",
        "    one_hot = np.zeros((labels.size, num_classes))\n",
        "    # Gunakan advanced indexing untuk menempatkan nilai 1 di posisi yang benar\n",
        "    # untuk setiap baris (label), kolom yang diisi adalah nilai label itu sendiri\n",
        "    one_hot[np.arange(labels.size), labels] = 1\n",
        "    return one_hot\n",
        "\n",
        "labels = np.array([0, 1, 2, 0, 1, 2, 0])\n",
        "one_hot_labels = one_hot_encoding(labels)\n",
        "\n",
        "# TODO 4: Train-test split manual\n",
        "def train_test_split_numpy(X, y, test_size=0.2):\n",
        "    # TODO: Implementasi train-test split tanpa sklearn\n",
        "    \"\"\"Membagi dataset X dan y menjadi set training dan testing secara manual.\"\"\"\n",
        "    n_samples = X.shape[0]\n",
        "    # Buat urutan indeks dari 0 hingga n_samples-1, lalu acak\n",
        "    shuffled_indices = np.random.permutation(n_samples)\n",
        "\n",
        "    # Tentukan ukuran set testing dan titik pemisahan\n",
        "    test_set_size = int(n_samples * test_size)\n",
        "    test_indices = shuffled_indices[:test_set_size]\n",
        "    train_indices = shuffled_indices[test_set_size:]\n",
        "\n",
        "    # Ambil data berdasarkan indeks yang sudah diacak dan dipisah\n",
        "    X_train, X_test = X[train_indices], X[test_indices]\n",
        "    y_train, y_test = y[train_indices], y[test_indices]\n",
        "\n",
        "    return X_train, X_test, y_train, y_test\n",
        "\n",
        "\n",
        "X_train, X_test, y_train, y_test = train_test_split_numpy(X, np.random.randint(0, 3, 100))\n",
        "\n",
        "assert X_normalized.shape == X.shape, \"Shape should remain same\"\n",
        "assert np.allclose(X_normalized.mean(), 0, atol=1e-10), \"Mean should be ~0 after z-score\"\n",
        "assert np.allclose(X_normalized.std(), 1, atol=1e-10), \"Std should be ~1 after z-score\"\n",
        "print(\"✅ NumPy operations completed\")\n",
        "print(f\"\\nShape of X_train: {X_train.shape}\")\n",
        "print(f\"Shape of X_test: {X_test.shape}\")\n",
        "print(\"\\nContoh One-Hot Encoding:\")\n",
        "print(one_hot_labels)\n"
      ]
    }
  ],
  "metadata": {
    "kernelspec": {
      "display_name": "base",
      "language": "python",
      "name": "python3"
    },
    "language_info": {
      "codemirror_mode": {
        "name": "ipython",
        "version": 3
      },
      "file_extension": ".py",
      "mimetype": "text/x-python",
      "name": "python",
      "nbconvert_exporter": "python",
      "pygments_lexer": "ipython3",
      "version": "3.11.5"
    },
    "colab": {
      "provenance": []
    }
  },
  "nbformat": 4,
  "nbformat_minor": 5
}