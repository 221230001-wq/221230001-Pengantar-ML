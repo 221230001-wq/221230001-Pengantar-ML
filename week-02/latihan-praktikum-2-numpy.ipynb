{
  "cells": [
    {
      "cell_type": "markdown",
      "metadata": {
        "id": "view-in-github",
        "colab_type": "text"
      },
      "source": [
        "<a href=\"https://colab.research.google.com/github/221230001-wq/221230001-Pengantar-ML/blob/main/week-02/latihan-praktikum-2-numpy.ipynb\" target=\"_parent\"><img src=\"https://colab.research.google.com/assets/colab-badge.svg\" alt=\"Open In Colab\"/></a>"
      ]
    },
    {
      "cell_type": "markdown",
      "id": "77f2e14d",
      "metadata": {
        "id": "77f2e14d"
      },
      "source": [
        "# Praktikum 2: Komputasi Numerik dengan NumPy Array\n",
        "\n",
        "<a href=\"https://colab.research.google.com/github/pakizhan-ump/ml-umpontianak/blob/main/Modules/Week-02/Praktikum-02/Praktikum_2_numpy.ipynb\" target=\"_parent\"><img src=\"https://colab.research.google.com/assets/colab-badge.svg\" alt=\"Open In Colab\"/></a>\n",
        "\n",
        "## 🎯 Tujuan Praktikum\n",
        "Mahasiswa mampu menggunakan library **NumPy** untuk membuat dan memanipulasi array multidimensi serta memahami keunggulannya dibandingkan List untuk komputasi numerik.\n",
        "\n",
        "## 📖 Dasar Teori\n",
        "**NumPy (Numerical Python)** adalah library fundamental untuk komputasi ilmiah di Python. Struktur data utamanya adalah **ndarray (n-dimensional array)**, yang dirancang khusus untuk operasi numerik yang efisien. Keunggulan utamanya meliputi:\n",
        "* **Homogeneous:** Semua elemen dalam sebuah array harus memiliki tipe data yang sama (misalnya, semua `float64` atau semua `int32`), yang memungkinkan penyimpanan memori yang lebih efisien.\n",
        "* **Ukuran Tetap:** Ukuran array ditentukan saat pembuatan, membuatnya lebih dapat diprediksi dalam hal alokasi memori.\n",
        "* **Efisiensi Memori & Kecepatan:** Operasi matematika pada NumPy array jauh lebih cepat karena dieksekusi oleh kode C yang terkompilasi, bukan melalui interpreter Python.\n",
        "* **Mendukung Operasi Vektorisasi:** Memungkinkan operasi matematika dilakukan pada seluruh elemen array secara bersamaan tanpa perlu menulis *loop* `for`, membuat kode lebih ringkas dan cepat.\n",
        "\n",
        "Dalam machine learning, data seperti gambar (matriks piksel), sinyal audio, atau fitur-fitur numerik hampir selalu direpresentasikan sebagai NumPy array."
      ]
    },
    {
      "cell_type": "code",
      "execution_count": 1,
      "id": "6290131d",
      "metadata": {
        "id": "6290131d"
      },
      "outputs": [],
      "source": [
        "import numpy as np"
      ]
    },
    {
      "cell_type": "markdown",
      "id": "4fc7c7b4",
      "metadata": {
        "id": "4fc7c7b4"
      },
      "source": [
        "# 🔧 OPERASI FUNDAMENTAL NUMPY\n",
        "\n",
        "# 1. ARRAY CREATION & TYPES"
      ]
    },
    {
      "cell_type": "code",
      "execution_count": 2,
      "id": "30646851",
      "metadata": {
        "colab": {
          "base_uri": "https://localhost:8080/"
        },
        "id": "30646851",
        "outputId": "60a82fa0-917a-4839-f662-ef91281cbfaa"
      },
      "outputs": [
        {
          "output_type": "stream",
          "name": "stdout",
          "text": [
            "=== ARRAY CREATION ===\n",
            "1D array shape: (5,)\n",
            "2D array shape: (2, 3)\n",
            "3D array shape: (2, 3, 4)\n"
          ]
        }
      ],
      "source": [
        "print(\"=== ARRAY CREATION ===\")\n",
        "arr1d = np.array([1, 2, 3, 4, 5])                    # 1D array\n",
        "arr2d = np.array([[1, 2, 3], [4, 5, 6]])            # 2D array\n",
        "arr3d = np.random.rand(2, 3, 4)                     # 3D random array\n",
        "\n",
        "print(\"1D array shape:\", arr1d.shape)\n",
        "print(\"2D array shape:\", arr2d.shape)\n",
        "print(\"3D array shape:\", arr3d.shape)"
      ]
    },
    {
      "cell_type": "markdown",
      "id": "b0e2f682",
      "metadata": {
        "id": "b0e2f682"
      },
      "source": [
        "# 2. DATA TYPES"
      ]
    },
    {
      "cell_type": "code",
      "execution_count": 3,
      "id": "7efe2214",
      "metadata": {
        "colab": {
          "base_uri": "https://localhost:8080/"
        },
        "id": "7efe2214",
        "outputId": "69c5a7f2-ed71-42b2-df06-e74370bf7492"
      },
      "outputs": [
        {
          "output_type": "stream",
          "name": "stdout",
          "text": [
            "Data types:\n",
            "arr_int dtype: int32\n",
            "arr_float dtype: float64\n"
          ]
        }
      ],
      "source": [
        "arr_int = np.array([1, 2, 3], dtype=np.int32)\n",
        "arr_float = np.array([1.0, 2.0, 3.0], dtype=np.float64)\n",
        "arr_bool = np.array([True, False, True])\n",
        "\n",
        "print(\"Data types:\")\n",
        "print(\"arr_int dtype:\", arr_int.dtype)\n",
        "print(\"arr_float dtype:\", arr_float.dtype)"
      ]
    },
    {
      "cell_type": "markdown",
      "id": "b81b12e6",
      "metadata": {
        "id": "b81b12e6"
      },
      "source": [
        "# 3. ACCESS & SLICING"
      ]
    },
    {
      "cell_type": "code",
      "execution_count": 4,
      "id": "60d386db",
      "metadata": {
        "colab": {
          "base_uri": "https://localhost:8080/"
        },
        "id": "60d386db",
        "outputId": "a03e6244-0dda-4e81-bf06-6b0cc1b2ab28"
      },
      "outputs": [
        {
          "output_type": "stream",
          "name": "stdout",
          "text": [
            "\n",
            "=== ACCESS & SLICING ===\n",
            "Element [1,2]: 7\n",
            "Row 1: [5 6 7 8]\n",
            "Column 2: [ 3  7 11]\n",
            "Submatrix 2x2:\n",
            " [[2 3]\n",
            " [6 7]]\n",
            "Every other row:\n",
            " [[ 1  2  3  4]\n",
            " [ 9 10 11 12]]\n"
          ]
        }
      ],
      "source": [
        "matrix = np.array([[1, 2, 3, 4],\n",
        "                   [5, 6, 7, 8],\n",
        "                   [9, 10, 11, 12]])\n",
        "\n",
        "print(\"\\n=== ACCESS & SLICING ===\")\n",
        "print(\"Element [1,2]:\", matrix[1, 2])                # Single element\n",
        "print(\"Row 1:\", matrix[1, :])                        # Entire row\n",
        "print(\"Column 2:\", matrix[:, 2])                     # Entire column\n",
        "print(\"Submatrix 2x2:\\n\", matrix[0:2, 1:3])          # Submatrix\n",
        "print(\"Every other row:\\n\", matrix[::2, :])          # Step slicing"
      ]
    },
    {
      "cell_type": "markdown",
      "id": "6270202a",
      "metadata": {
        "id": "6270202a"
      },
      "source": [
        "# 4. RESHAPING"
      ]
    },
    {
      "cell_type": "code",
      "execution_count": 5,
      "id": "4754402a",
      "metadata": {
        "colab": {
          "base_uri": "https://localhost:8080/"
        },
        "id": "4754402a",
        "outputId": "dd0b504f-6f64-4b98-d205-9658b186b23b"
      },
      "outputs": [
        {
          "output_type": "stream",
          "name": "stdout",
          "text": [
            "\n",
            "=== RESHAPING ===\n",
            "Original shape: (12,)\n",
            "Reshaped 3x4:\n",
            " [[ 0  1  2  3]\n",
            " [ 4  5  6  7]\n",
            " [ 8  9 10 11]]\n",
            "Transposed 4x3:\n",
            " [[ 0  4  8]\n",
            " [ 1  5  9]\n",
            " [ 2  6 10]\n",
            " [ 3  7 11]]\n",
            "Flattened: [ 0  1  2  3  4  5  6  7  8  9 10 11]\n"
          ]
        }
      ],
      "source": [
        "print(\"\\n=== RESHAPING ===\")\n",
        "arr = np.arange(12)                                  # 0-11\n",
        "print(\"Original shape:\", arr.shape)\n",
        "reshaped = arr.reshape(3, 4)                        # Reshape to 3x4\n",
        "flattened = reshaped.flatten()                      # Back to 1D\n",
        "transposed = reshaped.T                             # Transpose\n",
        "\n",
        "print(\"Reshaped 3x4:\\n\", reshaped)\n",
        "print(\"Transposed 4x3:\\n\", transposed)\n",
        "print(\"Flattened:\", flattened)"
      ]
    },
    {
      "cell_type": "markdown",
      "id": "68a91f34",
      "metadata": {
        "id": "68a91f34"
      },
      "source": [
        "# 5. MATHEMATICAL OPERATIONS"
      ]
    },
    {
      "cell_type": "code",
      "execution_count": 6,
      "id": "b5d8e2a0",
      "metadata": {
        "colab": {
          "base_uri": "https://localhost:8080/"
        },
        "id": "b5d8e2a0",
        "outputId": "66a957be-68aa-4699-cece-55db0236c5f6"
      },
      "outputs": [
        {
          "output_type": "stream",
          "name": "stdout",
          "text": [
            "\n",
            "=== MATHEMATICAL OPERATIONS ===\n",
            "a + b = [5 7 9]\n",
            "a * b = [ 4 10 18]\n",
            "a ** 2 = [1 4 9]\n",
            "np.dot(a, b) = 32\n"
          ]
        }
      ],
      "source": [
        "print(\"\\n=== MATHEMATICAL OPERATIONS ===\")\n",
        "a = np.array([1, 2, 3])\n",
        "b = np.array([4, 5, 6])\n",
        "\n",
        "print(\"a + b =\", a + b)                             # Element-wise add\n",
        "print(\"a * b =\", a * b)                             # Element-wise multiply\n",
        "print(\"a ** 2 =\", a ** 2)                           # Power\n",
        "print(\"np.dot(a, b) =\", np.dot(a, b))               # Dot product"
      ]
    },
    {
      "cell_type": "markdown",
      "id": "1361c21b",
      "metadata": {
        "id": "1361c21b"
      },
      "source": [
        "# 6. AGGREGATION"
      ]
    },
    {
      "cell_type": "code",
      "execution_count": 7,
      "id": "c4309086",
      "metadata": {
        "colab": {
          "base_uri": "https://localhost:8080/"
        },
        "id": "c4309086",
        "outputId": "e8127d12-aed5-4bd0-bf37-6e0a9403a87b"
      },
      "outputs": [
        {
          "output_type": "stream",
          "name": "stdout",
          "text": [
            "\n",
            "=== AGGREGATION ===\n",
            "Data:\n",
            " [[0.03970543 0.40205667 0.49604086 0.07240419]\n",
            " [0.48024949 0.23337366 0.51651072 0.07226172]\n",
            " [0.15492007 0.91044786 0.88625473 0.53585156]\n",
            " [0.57322333 0.77953707 0.76688782 0.00985132]\n",
            " [0.36467854 0.9549235  0.3733182  0.74831707]]\n",
            "Sum all: 9.370813826689844\n",
            "Mean all: 0.46854069133449217\n",
            "Std all: 0.29792754699858964\n",
            "Sum columns: [1.61277686 3.28033876 3.03901234 1.43868586]\n",
            "Mean rows: [0.25255179 0.3255989  0.62186856 0.53237489 0.61030933]\n"
          ]
        }
      ],
      "source": [
        "print(\"\\n=== AGGREGATION ===\")\n",
        "data = np.random.rand(5, 4)                         # 5x4 random data\n",
        "print(\"Data:\\n\", data)\n",
        "print(\"Sum all:\", np.sum(data))\n",
        "print(\"Mean all:\", np.mean(data))\n",
        "print(\"Std all:\", np.std(data))\n",
        "print(\"Sum columns:\", np.sum(data, axis=0))         # Along columns\n",
        "print(\"Mean rows:\", np.mean(data, axis=1))          # Along rows"
      ]
    },
    {
      "cell_type": "markdown",
      "id": "6e1e7f85",
      "metadata": {
        "id": "6e1e7f85"
      },
      "source": [
        "# 7. BROADCASTING"
      ]
    },
    {
      "cell_type": "code",
      "execution_count": 8,
      "id": "dbee1465",
      "metadata": {
        "colab": {
          "base_uri": "https://localhost:8080/"
        },
        "id": "dbee1465",
        "outputId": "3e7cae45-4f47-4da0-a3a2-e100921d8c43"
      },
      "outputs": [
        {
          "output_type": "stream",
          "name": "stdout",
          "text": [
            "\n",
            "=== BROADCASTING ===\n",
            "Matrix + Vector:\n",
            " [[11 22 33]\n",
            " [14 25 36]]\n"
          ]
        }
      ],
      "source": [
        "print(\"\\n=== BROADCASTING ===\")\n",
        "matrix = np.array([[1, 2, 3], [4, 5, 6]])\n",
        "vector = np.array([10, 20, 30])\n",
        "\n",
        "result = matrix + vector                            # Broadcasting\n",
        "print(\"Matrix + Vector:\\n\", result)"
      ]
    },
    {
      "cell_type": "markdown",
      "id": "1695d8bb",
      "metadata": {
        "id": "1695d8bb"
      },
      "source": [
        "# 8. RANDOM OPERATIONS"
      ]
    },
    {
      "cell_type": "code",
      "execution_count": 9,
      "id": "f09e1c8a",
      "metadata": {
        "colab": {
          "base_uri": "https://localhost:8080/"
        },
        "id": "f09e1c8a",
        "outputId": "a7e6ab36-03d8-4a50-ad89-be3da4545a19"
      },
      "outputs": [
        {
          "output_type": "stream",
          "name": "stdout",
          "text": [
            "\n",
            "=== RANDOM OPERATIONS ===\n",
            "Uniform random:\n",
            " [[0.37220347 0.83025735 0.3742609 ]\n",
            " [0.6840643  0.72393562 0.35095031]\n",
            " [0.44998043 0.67189036 0.03435261]]\n",
            "Normal random:\n",
            " [[-0.58222722 -1.11104127 -0.06220788]\n",
            " [ 0.19845853  0.56863117  0.52944057]\n",
            " [-0.09220783  0.57509391 -1.187073  ]]\n",
            "Random integers:\n",
            " [[29 31 79]\n",
            " [27 26  5]\n",
            " [71 55 12]]\n"
          ]
        }
      ],
      "source": [
        "print(\"\\n=== RANDOM OPERATIONS ===\")\n",
        "random_arr = np.random.rand(3, 3)                   # Uniform [0,1)\n",
        "normal_arr = np.random.randn(3, 3)                  # Normal distribution\n",
        "integers = np.random.randint(0, 100, (3, 3))        # Random integers\n",
        "\n",
        "print(\"Uniform random:\\n\", random_arr)\n",
        "print(\"Normal random:\\n\", normal_arr)\n",
        "print(\"Random integers:\\n\", integers)"
      ]
    },
    {
      "cell_type": "markdown",
      "id": "841e508d",
      "metadata": {
        "id": "841e508d"
      },
      "source": [
        "# 9. SPLITTING & JOINING"
      ]
    },
    {
      "cell_type": "code",
      "execution_count": 10,
      "id": "8f070add",
      "metadata": {
        "colab": {
          "base_uri": "https://localhost:8080/"
        },
        "id": "8f070add",
        "outputId": "d2653f2b-2050-44f5-d0c1-f0cba04555a5"
      },
      "outputs": [
        {
          "output_type": "stream",
          "name": "stdout",
          "text": [
            "\n",
            "=== SPLITTING & JOINING ===\n",
            "Original:\n",
            " [[ 0  1  2  3]\n",
            " [ 4  5  6  7]\n",
            " [ 8  9 10 11]]\n",
            "After split:\n",
            "Part 0:\n",
            "[[0 1 2 3]]\n",
            "Part 1:\n",
            "[[4 5 6 7]]\n",
            "Part 2:\n",
            "[[ 8  9 10 11]]\n",
            "After concatenation:\n",
            " [[1 2]\n",
            " [3 4]\n",
            " [5 6]]\n"
          ]
        }
      ],
      "source": [
        "print(\"\\n=== SPLITTING & JOINING ===\")\n",
        "arr = np.arange(12).reshape(3, 4)\n",
        "sub_arrays = np.split(arr, 3, axis=0)               # Split along rows\n",
        "print(\"Original:\\n\", arr)\n",
        "print(\"After split:\")\n",
        "for i, sub in enumerate(sub_arrays):\n",
        "    print(f\"Part {i}:\\n{sub}\")\n",
        "\n",
        "# Joining arrays\n",
        "arr1 = np.array([[1, 2], [3, 4]])\n",
        "arr2 = np.array([[5, 6]])\n",
        "joined = np.concatenate([arr1, arr2], axis=0)       # Vertical join\n",
        "print(\"After concatenation:\\n\", joined)"
      ]
    },
    {
      "cell_type": "markdown",
      "id": "8d4fc396",
      "metadata": {
        "id": "8d4fc396"
      },
      "source": [
        "# 10. CONDITIONAL OPERATIONS"
      ]
    },
    {
      "cell_type": "code",
      "execution_count": 11,
      "id": "4f168da2",
      "metadata": {
        "colab": {
          "base_uri": "https://localhost:8080/"
        },
        "id": "4f168da2",
        "outputId": "6b5cb4eb-e93a-4963-cd48-6a721cc7b7bd"
      },
      "outputs": [
        {
          "output_type": "stream",
          "name": "stdout",
          "text": [
            "\n",
            "=== CONDITIONAL OPERATIONS ===\n",
            "Data > 30: [45 50 65]\n",
            "Where > 30 else 0: [ 0  0  0 45 50 65]\n"
          ]
        }
      ],
      "source": [
        "print(\"\\n=== CONDITIONAL OPERATIONS ===\")\n",
        "data = np.array([10, 25, 30, 45, 50, 65])\n",
        "mask = data > 30                                    # Boolean mask\n",
        "filtered = data[mask]                               # Filter with mask\n",
        "print(\"Data > 30:\", filtered)\n",
        "\n",
        "# Where operation\n",
        "result = np.where(data > 30, data, 0)               # Replace conditionally\n",
        "print(\"Where > 30 else 0:\", result)"
      ]
    },
    {
      "cell_type": "markdown",
      "id": "be6c38bd",
      "metadata": {
        "id": "be6c38bd"
      },
      "source": [
        "# 🏋️ LATIHAN 2: OPERASI NUMPY UNTUK MACHINE LEARNING\n",
        "\n",
        "### DATA PREPROCESSING DENGAN NUMPY ###"
      ]
    },
    {
      "cell_type": "code",
      "execution_count": 14,
      "id": "3991fe2e",
      "metadata": {
        "colab": {
          "base_uri": "https://localhost:8080/"
        },
        "id": "3991fe2e",
        "outputId": "80ccf63e-828e-48df-f423-70894ed3bfd0"
      },
      "outputs": [
        {
          "output_type": "stream",
          "name": "stdout",
          "text": [
            "✅ Operasi NumPy berhasil diselesaikan dan diperbaiki.\n",
            "\n",
            "Contoh data setelah normalisasi (5 baris pertama):\n",
            "[[ 0.604418   -0.21979528  0.76040738  1.46605404 -0.18681207]\n",
            " [-0.21141045  1.53420502  0.883546   -0.626682    0.55681147]\n",
            " [-0.46735006 -0.55422449  0.34318685 -2.1431177  -1.61406634]\n",
            " [-0.57771567 -1.1129603   0.41751976 -1.08729268 -1.31477033]\n",
            " [ 1.68601234 -0.30916828  0.16381105 -1.63001031 -0.4838249 ]]\n",
            "\n",
            "Contoh label setelah one-hot encoding:\n",
            "[[1. 0. 0.]\n",
            " [0. 1. 0.]\n",
            " [0. 0. 1.]\n",
            " [1. 0. 0.]\n",
            " [0. 1. 0.]\n",
            " [0. 0. 1.]\n",
            " [1. 0. 0.]]\n"
          ]
        }
      ],
      "source": [
        "import numpy as np\n",
        "\n",
        "'''TODO: Implementasi Preprocessing Pipeline'''\n",
        "# Dataset simulasi: 100 samples, 5 features\n",
        "np.random.seed(42)\n",
        "X = np.random.randn(100, 5) * 10 + 5  # Mean=5, Std=10\n",
        "\n",
        "# TODO 1: Normalisasi Z-score: (x - mean) / std\n",
        "def z_score_normalization(data):\n",
        "    \"\"\"\n",
        "    Menormalisasi data menggunakan Z-score.\n",
        "    Setiap fitur akan memiliki mean=0 dan standard deviation=1.\n",
        "    \"\"\"\n",
        "    mean = np.mean(data, axis=0)\n",
        "    std = np.std(data, axis=0)\n",
        "    # Menghindari pembagian dengan nol jika ada fitur dengan std deviasi 0\n",
        "    std[std == 0] = 1\n",
        "    return (data - mean) / std\n",
        "\n",
        "X_normalized = z_score_normalization(X)\n",
        "\n",
        "# TODO 2: Handle outliers - replace values beyond 3 std with boundaries\n",
        "def handle_outliers(data, std_threshold=3):\n",
        "    \"\"\"\n",
        "    Menangani outlier dengan metode clipping (capping).\n",
        "    Nilai yang berada di luar ambang batas (threshold) akan diganti\n",
        "    dengan nilai batas atas atau batas bawah.\n",
        "    \"\"\"\n",
        "    mean = np.mean(data, axis=0)\n",
        "    std = np.std(data, axis=0)\n",
        "    lower_bound = mean - std_threshold * std\n",
        "    upper_bound = mean + std_threshold * std\n",
        "\n",
        "    # Menggunakan np.clip untuk cara yang lebih efisien dan ringkas\n",
        "    cleaned_data = np.clip(data, lower_bound, upper_bound)\n",
        "\n",
        "    return cleaned_data\n",
        "\n",
        "# Sebaiknya tangani outlier pada data asli, bukan yang sudah dinormalisasi\n",
        "X_cleaned = handle_outliers(X)\n",
        "# Kemudian normalisasi data yang sudah bersih dari outlier\n",
        "X_final = z_score_normalization(X_cleaned)\n",
        "\n",
        "\n",
        "# TODO 3: One-hot encoding untuk label kategorikal\n",
        "def one_hot_encoding(labels):\n",
        "    \"\"\"\n",
        "    Mengubah array label kategorikal (integer) menjadi format one-hot encoding.\n",
        "    Contoh: [0, 1, 2] -> [[1,0,0], [0,1,0], [0,0,1]]\n",
        "    \"\"\"\n",
        "    # Menentukan jumlah kelas secara dinamis\n",
        "    num_classes = np.max(labels) + 1\n",
        "    # Teknik indexing dengan identity matrix untuk membuat one-hot encoding\n",
        "    return np.eye(num_classes)[labels]\n",
        "\n",
        "\n",
        "labels = np.array([0, 1, 2, 0, 1, 2, 0])\n",
        "one_hot_labels = one_hot_encoding(labels)\n",
        "\n",
        "# TODO 4: Train-test split manual\n",
        "def train_test_split_numpy(X, y, test_size=0.2, random_state=42):\n",
        "    \"\"\"\n",
        "    Membagi dataset (fitur X dan target y) menjadi data training dan testing.\n",
        "    \"\"\"\n",
        "    # Seed untuk memastikan hasil shuffle selalu sama (reproducibility)\n",
        "    np.random.seed(random_state)\n",
        "\n",
        "    n_samples = X.shape[0]\n",
        "    n_test = int(n_samples * test_size)\n",
        "\n",
        "    # Mengacak semua indeks data\n",
        "    shuffled_indices = np.random.permutation(n_samples)\n",
        "\n",
        "    # Mengambil indeks untuk data tes dan data latih\n",
        "    test_indices = shuffled_indices[:n_test]\n",
        "    train_indices = shuffled_indices[n_test:]\n",
        "\n",
        "    # Memisahkan data berdasarkan indeks yang sudah diacak\n",
        "    X_train, X_test = X[train_indices], X[test_indices]\n",
        "    y_train, y_test = y[train_indices], y[test_indices]\n",
        "\n",
        "    return X_train, X_test, y_train, y_test\n",
        "\n",
        "\n",
        "X_train, X_test, y_train, y_test = train_test_split_numpy(X_final, np.random.randint(0, 3, 100))\n",
        "\n",
        "# --- Pengecekan Hasil ---\n",
        "assert X_normalized.shape == X.shape, \"Bentuk data tidak boleh berubah setelah normalisasi\"\n",
        "assert np.allclose(X_normalized.mean(), 0, atol=1e-10), \"Mean setelah Z-score harus mendekati 0\"\n",
        "assert np.allclose(X_normalized.std(), 1, atol=1e-10), \"Standard deviasi setelah Z-score harus mendekati 1\"\n",
        "\n",
        "print(\"✅ Operasi NumPy berhasil diselesaikan dan diperbaiki.\")\n",
        "print(\"\\nContoh data setelah normalisasi (5 baris pertama):\")\n",
        "print(X_final[:5])\n",
        "print(\"\\nContoh label setelah one-hot encoding:\")\n",
        "print(one_hot_labels)"
      ]
    }
  ],
  "metadata": {
    "kernelspec": {
      "display_name": "base",
      "language": "python",
      "name": "python3"
    },
    "language_info": {
      "codemirror_mode": {
        "name": "ipython",
        "version": 3
      },
      "file_extension": ".py",
      "mimetype": "text/x-python",
      "name": "python",
      "nbconvert_exporter": "python",
      "pygments_lexer": "ipython3",
      "version": "3.11.5"
    },
    "colab": {
      "provenance": [],
      "include_colab_link": true
    }
  },
  "nbformat": 4,
  "nbformat_minor": 5
}