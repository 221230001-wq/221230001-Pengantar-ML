{
  "cells": [
    {
      "cell_type": "markdown",
      "metadata": {
        "id": "view-in-github",
        "colab_type": "text"
      },
      "source": [
        "<a href=\"https://colab.research.google.com/github/221230001-wq/221230001-Pengantar-ML/blob/main/week-02/latihan-praktikum-3-pandas.ipynb\" target=\"_parent\"><img src=\"https://colab.research.google.com/assets/colab-badge.svg\" alt=\"Open In Colab\"/></a>"
      ]
    },
    {
      "cell_type": "markdown",
      "id": "33624715",
      "metadata": {
        "id": "33624715"
      },
      "source": [
        "# Praktikum 3: Manipulasi Data Tabular dengan Pandas\n",
        "\n",
        "<a href=\"https://colab.research.google.com/github/pakizhan-ump/ml-umpontianak/blob/main/Modules/Week-02/Praktikum-02/Praktikum_3_pandas.ipynb\" target=\"_parent\"><img src=\"https://colab.research.google.com/assets/colab-badge.svg\" alt=\"Open In Colab\"/></a>\n",
        "\n",
        "## 🎯 Tujuan Praktikum\n",
        "Mahasiswa mampu menggunakan library **Pandas** untuk memuat, membersihkan, memanipulasi, dan menganalisis data dalam bentuk tabel (DataFrame).\n",
        "\n",
        "## 📖 Dasar Teori\n",
        "**Pandas** adalah library yang dibangun di atas NumPy, dirancang khusus untuk analisis dan manipulasi data terstruktur atau tabular. Dua struktur data utamanya adalah:\n",
        "* **Series:** Sebuah array satu dimensi yang memiliki label (indeks). Ini bisa dianggap sebagai satu kolom dalam sebuah tabel.\n",
        "* **DataFrame:** Struktur data dua dimensi seperti tabel pada spreadsheet atau database SQL. DataFrame terdiri dari baris dan kolom, di mana setiap kolomnya adalah sebuah Pandas Series.\n",
        "\n",
        "Pandas sangat esensial untuk tahap *data cleaning*, *preprocessing*, dan *exploratory data analysis (EDA)* dalam alur kerja machine learning. Ia menyediakan fungsi-fungsi tingkat tinggi untuk membaca file (CSV, Excel), menangani data yang hilang (*missing values*), melakukan pengelompokan (*grouping*), dan seleksi data yang kompleks dengan mudah.\n"
      ]
    },
    {
      "cell_type": "markdown",
      "id": "8e0eba88",
      "metadata": {
        "id": "8e0eba88"
      },
      "source": [
        "# 🔧 OPERASI FUNDAMENTAL PANDAS"
      ]
    },
    {
      "cell_type": "code",
      "execution_count": 1,
      "id": "d5da1e05",
      "metadata": {
        "id": "d5da1e05"
      },
      "outputs": [],
      "source": [
        "import pandas as pd\n",
        "import numpy as np"
      ]
    },
    {
      "cell_type": "markdown",
      "id": "9fd1ba99",
      "metadata": {
        "id": "9fd1ba99"
      },
      "source": [
        "# 1. DATAFRAME CREATION"
      ]
    },
    {
      "cell_type": "code",
      "execution_count": 2,
      "id": "56ca9162",
      "metadata": {
        "colab": {
          "base_uri": "https://localhost:8080/"
        },
        "id": "56ca9162",
        "outputId": "39c76cdd-5baf-4679-a726-79d79146ed3b"
      },
      "outputs": [
        {
          "output_type": "stream",
          "name": "stdout",
          "text": [
            "=== DATAFRAME CREATION ===\n",
            "DataFrame:\n",
            "       Name  Age  Salary Department\n",
            "0    Alice   25   50000         IT\n",
            "1      Bob   30   60000         HR\n",
            "2  Charlie   35   70000         IT\n",
            "3    David   28   55000    Finance\n"
          ]
        }
      ],
      "source": [
        "print(\"=== DATAFRAME CREATION ===\")\n",
        "# From dictionary\n",
        "data = {\n",
        "    'Name': ['Alice', 'Bob', 'Charlie', 'David'],\n",
        "    'Age': [25, 30, 35, 28],\n",
        "    'Salary': [50000, 60000, 70000, 55000],\n",
        "    'Department': ['IT', 'HR', 'IT', 'Finance']\n",
        "}\n",
        "df = pd.DataFrame(data)\n",
        "print(\"DataFrame:\\n\", df)"
      ]
    },
    {
      "cell_type": "markdown",
      "id": "c1f60d0c",
      "metadata": {
        "id": "c1f60d0c"
      },
      "source": [
        "# 2. ACCESS & INDEXING"
      ]
    },
    {
      "cell_type": "code",
      "execution_count": 3,
      "id": "2945f028",
      "metadata": {
        "colab": {
          "base_uri": "https://localhost:8080/"
        },
        "id": "2945f028",
        "outputId": "6412b76f-d50e-404c-e68d-488d1c3f57c0"
      },
      "outputs": [
        {
          "output_type": "stream",
          "name": "stdout",
          "text": [
            "\n",
            "=== ACCESS & INDEXING ===\n",
            "Column 'Name': ['Alice', 'Bob', 'Charlie', 'David']\n",
            "First row:\n",
            " Name          Alice\n",
            "Age              25\n",
            "Salary        50000\n",
            "Department       IT\n",
            "Name: 0, dtype: object\n",
            "Rows 1-2:\n",
            "       Name  Age  Salary Department\n",
            "1      Bob   30   60000         HR\n",
            "2  Charlie   35   70000         IT\n",
            "Filter Age > 28:\n",
            "       Name  Age  Salary Department\n",
            "1      Bob   30   60000         HR\n",
            "2  Charlie   35   70000         IT\n"
          ]
        }
      ],
      "source": [
        "print(\"\\n=== ACCESS & INDEXING ===\")\n",
        "print(\"Column 'Name':\", df['Name'].tolist())\n",
        "print(\"First row:\\n\", df.iloc[0])                    # By integer position\n",
        "print(\"Rows 1-2:\\n\", df.iloc[1:3])\n",
        "print(\"Filter Age > 28:\\n\", df[df['Age'] > 28])"
      ]
    },
    {
      "cell_type": "markdown",
      "id": "93e5c93d",
      "metadata": {
        "id": "93e5c93d"
      },
      "source": [
        "# 3. ADD/REMOVE COLUMNS"
      ]
    },
    {
      "cell_type": "code",
      "execution_count": 4,
      "id": "8694ccd8",
      "metadata": {
        "colab": {
          "base_uri": "https://localhost:8080/"
        },
        "id": "8694ccd8",
        "outputId": "9c2dcb6f-5379-4af6-8153-f5d34fe4c130"
      },
      "outputs": [
        {
          "output_type": "stream",
          "name": "stdout",
          "text": [
            "\n",
            "=== ADD/REMOVE COLUMNS ===\n",
            "After modifications:\n",
            "       Name  Age  Salary Department  Senior\n",
            "0    Alice   25   50000         IT   False\n",
            "1      Bob   30   60000         HR   False\n",
            "2  Charlie   35   70000         IT    True\n",
            "3    David   28   55000    Finance   False\n"
          ]
        }
      ],
      "source": [
        "\n",
        "print(\"\\n=== ADD/REMOVE COLUMNS ===\")\n",
        "df['Experience'] = [2, 5, 8, 3]                     # Add new column\n",
        "df['Senior'] = df['Age'] > 30                       # Conditional column\n",
        "df = df.drop('Experience', axis=1)                  # Remove column\n",
        "print(\"After modifications:\\n\", df)"
      ]
    },
    {
      "cell_type": "markdown",
      "id": "747a0989",
      "metadata": {
        "id": "747a0989"
      },
      "source": [
        "# 4. HANDLING MISSING VALUES"
      ]
    },
    {
      "cell_type": "code",
      "execution_count": 6,
      "id": "74f038a2",
      "metadata": {
        "colab": {
          "base_uri": "https://localhost:8080/"
        },
        "id": "74f038a2",
        "outputId": "a4ccaa32-c717-44a5-bf34-f7b61edd50b1"
      },
      "outputs": [
        {
          "output_type": "stream",
          "name": "stdout",
          "text": [
            "\n",
            "=== MISSING VALUES ===\n",
            "With missing values:\n",
            "       Name   Age   Salary Department  Senior\n",
            "0    Alice  25.0  50000.0         IT   False\n",
            "1      Bob  30.0      NaN         HR   False\n",
            "2  Charlie   NaN  70000.0         IT    True\n",
            "3    David  28.0  55000.0    Finance   False\n",
            "Is null:\n",
            "     Name    Age  Salary  Department  Senior\n",
            "0  False  False   False       False   False\n",
            "1  False  False    True       False   False\n",
            "2  False   True   False       False   False\n",
            "3  False  False   False       False   False\n",
            "Fill with mean:\n",
            "       Name        Age        Salary Department  Senior\n",
            "0    Alice  25.000000  50000.000000         IT   False\n",
            "1      Bob  30.000000  58333.333333         HR   False\n",
            "2  Charlie  27.666667  70000.000000         IT    True\n",
            "3    David  28.000000  55000.000000    Finance   False\n"
          ]
        }
      ],
      "source": [
        "print(\"\\n=== MISSING VALUES ===\")\n",
        "df_with_na = df.copy()\n",
        "df_with_na.loc[1, 'Salary'] = np.nan\n",
        "df_with_na.loc[2, 'Age'] = np.nan\n",
        "\n",
        "print(\"With missing values:\\n\", df_with_na)\n",
        "print(\"Is null:\\n\", df_with_na.isnull())\n",
        "\n",
        "# Select only numeric columns for mean calculation and filling\n",
        "numeric_cols = df_with_na.select_dtypes(include=np.number).columns\n",
        "print(\"Fill with mean:\\n\", df_with_na.fillna(df_with_na[numeric_cols].mean()))"
      ]
    },
    {
      "cell_type": "markdown",
      "id": "4c8169ad",
      "metadata": {
        "id": "4c8169ad"
      },
      "source": [
        "# 5. GROUPING & AGGREGATION"
      ]
    },
    {
      "cell_type": "code",
      "execution_count": 8,
      "id": "cbd1d610",
      "metadata": {
        "colab": {
          "base_uri": "https://localhost:8080/"
        },
        "id": "cbd1d610",
        "outputId": "73a6fdc6-d5be-4c28-b7b0-cb614eec678c"
      },
      "outputs": [
        {
          "output_type": "stream",
          "name": "stdout",
          "text": [
            "\n",
            "=== GROUPING & AGGREGATION ===\n",
            "Grouped means:\n",
            "              Age   Salary\n",
            "Department               \n",
            "Finance     28.0  55000.0\n",
            "HR          30.0  60000.0\n",
            "IT          30.0  60000.0\n",
            "Grouped description:\n",
            "             count     mean           std      min      25%      50%      75%  \\\n",
            "Department                                                                     \n",
            "Finance       1.0  55000.0           NaN  55000.0  55000.0  55000.0  55000.0   \n",
            "HR            1.0  60000.0           NaN  60000.0  60000.0  60000.0  60000.0   \n",
            "IT            2.0  60000.0  14142.135624  50000.0  55000.0  60000.0  65000.0   \n",
            "\n",
            "                max  \n",
            "Department           \n",
            "Finance     55000.0  \n",
            "HR          60000.0  \n",
            "IT          70000.0  \n"
          ]
        }
      ],
      "source": [
        "print(\"\\n=== GROUPING & AGGREGATION ===\")\n",
        "grouped = df.groupby('Department')\n",
        "print(\"Grouped means:\\n\", grouped[['Age', 'Salary']].mean())\n",
        "print(\"Grouped description:\\n\", grouped['Salary'].describe())"
      ]
    },
    {
      "cell_type": "markdown",
      "id": "c0a193eb",
      "metadata": {
        "id": "c0a193eb"
      },
      "source": [
        "# 6. SORTING"
      ]
    },
    {
      "cell_type": "code",
      "execution_count": 9,
      "id": "cd4eb266",
      "metadata": {
        "colab": {
          "base_uri": "https://localhost:8080/"
        },
        "id": "cd4eb266",
        "outputId": "94478ad4-a6c2-439d-fb01-6a831a5a3f72"
      },
      "outputs": [
        {
          "output_type": "stream",
          "name": "stdout",
          "text": [
            "\n",
            "=== SORTING ===\n",
            "Sorted by Salary:\n",
            "       Name  Age  Salary Department  Senior\n",
            "2  Charlie   35   70000         IT    True\n",
            "1      Bob   30   60000         HR   False\n",
            "3    David   28   55000    Finance   False\n",
            "0    Alice   25   50000         IT   False\n"
          ]
        }
      ],
      "source": [
        "print(\"\\n=== SORTING ===\")\n",
        "df_sorted = df.sort_values('Salary', ascending=False)\n",
        "print(\"Sorted by Salary:\\n\", df_sorted)"
      ]
    },
    {
      "cell_type": "markdown",
      "id": "4aa190db",
      "metadata": {
        "id": "4aa190db"
      },
      "source": [
        "# 7. MERGING & JOINING"
      ]
    },
    {
      "cell_type": "code",
      "execution_count": 10,
      "id": "3c580c45",
      "metadata": {
        "colab": {
          "base_uri": "https://localhost:8080/"
        },
        "id": "3c580c45",
        "outputId": "e1f901c5-1603-4fbf-9b39-63620c7236f0"
      },
      "outputs": [
        {
          "output_type": "stream",
          "name": "stdout",
          "text": [
            "\n",
            "=== MERGING ===\n",
            "Merged DataFrame:\n",
            "       Name  Age  Salary Department  Senior   Bonus\n",
            "0    Alice   25   50000         IT   False  5000.0\n",
            "1      Bob   30   60000         HR   False  3000.0\n",
            "2  Charlie   35   70000         IT    True     NaN\n",
            "3    David   28   55000    Finance   False     NaN\n"
          ]
        }
      ],
      "source": [
        "print(\"\\n=== MERGING ===\")\n",
        "df2 = pd.DataFrame({\n",
        "    'Name': ['Alice', 'Bob', 'Eve'],\n",
        "    'Bonus': [5000, 3000, 4000]\n",
        "})\n",
        "merged = pd.merge(df, df2, on='Name', how='left')\n",
        "print(\"Merged DataFrame:\\n\", merged)"
      ]
    },
    {
      "cell_type": "markdown",
      "id": "a5ef532c",
      "metadata": {
        "id": "a5ef532c"
      },
      "source": [
        "# 8. PIVOT TABLES"
      ]
    },
    {
      "cell_type": "code",
      "execution_count": 11,
      "id": "8f3a0ee8",
      "metadata": {
        "colab": {
          "base_uri": "https://localhost:8080/"
        },
        "id": "8f3a0ee8",
        "outputId": "859b06ef-c31c-4043-ab73-33b5d9cef409"
      },
      "outputs": [
        {
          "output_type": "stream",
          "name": "stdout",
          "text": [
            "\n",
            "=== PIVOT TABLES ===\n",
            "Pivot table:\n",
            "                mean  count\n",
            "             Salary Salary\n",
            "Department                \n",
            "Finance     55000.0      1\n",
            "HR          60000.0      1\n",
            "IT          60000.0      2\n"
          ]
        }
      ],
      "source": [
        "print(\"\\n=== PIVOT TABLES ===\")\n",
        "pivot = df.pivot_table(values='Salary', index='Department', aggfunc=['mean', 'count'])\n",
        "print(\"Pivot table:\\n\", pivot)"
      ]
    },
    {
      "cell_type": "markdown",
      "id": "3d90015c",
      "metadata": {
        "id": "3d90015c"
      },
      "source": [
        "# 9. DATETIME OPERATIONS"
      ]
    },
    {
      "cell_type": "code",
      "execution_count": 12,
      "id": "0bffb8bc",
      "metadata": {
        "colab": {
          "base_uri": "https://localhost:8080/"
        },
        "id": "0bffb8bc",
        "outputId": "ae80841d-4b5b-41ec-df4e-c4cf93c5b1f0"
      },
      "outputs": [
        {
          "output_type": "stream",
          "name": "stdout",
          "text": [
            "\n",
            "=== DATETIME OPERATIONS ===\n",
            "With dates:\n",
            "       Name  Age  Salary Department  Senior  Join_Date  Year\n",
            "0    Alice   25   50000         IT   False 2023-01-01  2023\n",
            "1      Bob   30   60000         HR   False 2023-01-02  2023\n",
            "2  Charlie   35   70000         IT    True 2023-01-03  2023\n",
            "3    David   28   55000    Finance   False 2023-01-04  2023\n"
          ]
        }
      ],
      "source": [
        "\n",
        "print(\"\\n=== DATETIME OPERATIONS ===\")\n",
        "dates = pd.date_range('20230101', periods=4)\n",
        "df_dates = df.copy()\n",
        "df_dates['Join_Date'] = dates\n",
        "df_dates['Year'] = df_dates['Join_Date'].dt.year\n",
        "print(\"With dates:\\n\", df_dates)"
      ]
    },
    {
      "cell_type": "markdown",
      "id": "918c0958",
      "metadata": {
        "id": "918c0958"
      },
      "source": [
        "# 10. STRING OPERATIONS"
      ]
    },
    {
      "cell_type": "code",
      "execution_count": 13,
      "id": "777149d5",
      "metadata": {
        "colab": {
          "base_uri": "https://localhost:8080/"
        },
        "id": "777149d5",
        "outputId": "592d5a4f-4012-4bc7-a7b3-1fe449e0f9b3"
      },
      "outputs": [
        {
          "output_type": "stream",
          "name": "stdout",
          "text": [
            "\n",
            "=== STRING OPERATIONS ===\n",
            "String operations:\n",
            "       Name Name_Upper  Name_Length\n",
            "0    Alice      ALICE            5\n",
            "1      Bob        BOB            3\n",
            "2  Charlie    CHARLIE            7\n",
            "3    David      DAVID            5\n"
          ]
        }
      ],
      "source": [
        "print(\"\\n=== STRING OPERATIONS ===\")\n",
        "df['Name_Upper'] = df['Name'].str.upper()\n",
        "df['Name_Length'] = df['Name'].str.len()\n",
        "print(\"String operations:\\n\", df[['Name', 'Name_Upper', 'Name_Length']])"
      ]
    },
    {
      "cell_type": "markdown",
      "id": "6bb8792f",
      "metadata": {
        "id": "6bb8792f"
      },
      "source": [
        "# 🏋️ LATIHAN 3: OPERASI PANDAS UNTUK DATA ANALYSIS\n",
        "### EXPLORATORY DATA ANALYSIS ###"
      ]
    },
    {
      "cell_type": "code",
      "execution_count": 15,
      "id": "78ac1c77",
      "metadata": {
        "colab": {
          "base_uri": "https://localhost:8080/"
        },
        "id": "78ac1c77",
        "outputId": "19212b3a-121a-45b1-9452-43b91a46b55d"
      },
      "outputs": [
        {
          "output_type": "stream",
          "name": "stdout",
          "text": [
            "✅ Pandas operations completed\n",
            "\n",
            "--- Total Revenue per Produk ---\n",
            "product_id\n",
            "1     24953.204554\n",
            "2     28433.373576\n",
            "3     27360.489903\n",
            "4     23950.525430\n",
            "5     29894.628309\n",
            "6     29771.241361\n",
            "7     30786.212454\n",
            "8     32062.915807\n",
            "9     30812.566464\n",
            "10    25146.428705\n",
            "Name: revenue, dtype: float64\n",
            "\n",
            "--- Top 5 Pelanggan Berdasarkan Pengeluaran ---\n",
            "customer_id\n",
            "38    5239.536260\n",
            "59    5185.221233\n",
            "89    4759.149270\n",
            "94    4690.528278\n",
            "15    4657.289888\n",
            "Name: revenue, dtype: float64\n",
            "\n",
            "--- Contoh Revenue Harian ---\n",
            "date\n",
            "2023-01-01    5268.121555\n",
            "2023-01-02    4656.102661\n",
            "2023-01-03    3226.578585\n",
            "2023-01-04    2462.071219\n",
            "2023-01-05    3741.645829\n",
            "Name: revenue, dtype: float64\n",
            "\n",
            "--- Anomali Kuantitas yang Terdeteksi (jika ada) ---\n",
            "Empty DataFrame\n",
            "Columns: [date, product_id, quantity, price, customer_id, revenue]\n",
            "Index: []\n"
          ]
        }
      ],
      "source": [
        "'''TODO: Analisis Dataset Retail'''\n",
        "# Create sample retail dataset\n",
        "np.random.seed(42)\n",
        "dates = pd.date_range('2023-01-01', '2023-03-31', freq='D')\n",
        "retail_data = pd.DataFrame({\n",
        "    'date': np.random.choice(dates, 1000),\n",
        "    'product_id': np.random.randint(1, 11, 1000),\n",
        "    'quantity': np.random.randint(1, 10, 1000),\n",
        "    'price': np.random.uniform(10, 100, 1000),\n",
        "    'customer_id': np.random.randint(1, 101, 1000)\n",
        "})\n",
        "retail_data['revenue'] = retail_data['quantity'] * retail_data['price']\n",
        "\n",
        "# TODO 1: Hitung total revenue per product\n",
        "revenue_per_product = retail_data.groupby('product_id')['revenue'].sum()\n",
        "\n",
        "# TODO 2: Temukan top 5 customers berdasarkan total spending\n",
        "top_customers = retail_data.groupby('customer_id')['revenue'].sum().sort_values(ascending=False).head(5)\n",
        "\n",
        "# TODO 3: Analisis time series - revenue per hari\n",
        "daily_revenue = retail_data.groupby('date')['revenue'].sum()\n",
        "\n",
        "# TODO 4: Buat fungsi untuk detect anomalies dalam quantity\n",
        "def detect_quantity_anomalies(df, threshold=2):\n",
        "    # TODO: Detect anomalies using Z-score\n",
        "    # Menghitung mean dan standard deviasi dari kolom 'quantity'\n",
        "    mean_qty = df['quantity'].mean()\n",
        "    std_qty = df['quantity'].std()\n",
        "\n",
        "    # Menghindari pembagian dengan nol jika semua nilai quantity sama\n",
        "    if std_qty == 0:\n",
        "        return pd.DataFrame() # Mengembalikan DataFrame kosong\n",
        "\n",
        "    # Menghitung Z-score untuk setiap baris\n",
        "    df['z_score'] = np.abs((df['quantity'] - mean_qty) / std_qty)\n",
        "\n",
        "     # Melakukan filter dan Mengembalikan baris yang dianggap anomali\n",
        "    anomalies = df[df['z_score'] > threshold]\n",
        "    return anomalies.drop(columns=['z_score']) # Mengapus kolom z_score dari output\n",
        "\n",
        "anomalies = detect_quantity_anomalies(retail_data)\n",
        "\n",
        "assert len(revenue_per_product) <= 10, \"Should have max 10 products\"\n",
        "assert len(top_customers) == 5, \"Should have top 5 customers\"\n",
        "print(\"✅ Pandas operations completed\")\n",
        "\n",
        "print(\"\\n--- Total Revenue per Produk ---\")\n",
        "print(revenue_per_product)\n",
        "print(\"\\n--- Top 5 Pelanggan Berdasarkan Pengeluaran ---\")\n",
        "print(top_customers)\n",
        "print(\"\\n--- Contoh Revenue Harian ---\")\n",
        "print(daily_revenue.head())\n",
        "print(\"\\n--- Anomali Kuantitas yang Terdeteksi (jika ada) ---\")\n",
        "print(anomalies)\n"
      ]
    }
  ],
  "metadata": {
    "kernelspec": {
      "display_name": ".venv",
      "language": "python",
      "name": "python3"
    },
    "language_info": {
      "codemirror_mode": {
        "name": "ipython",
        "version": 3
      },
      "file_extension": ".py",
      "mimetype": "text/x-python",
      "name": "python",
      "nbconvert_exporter": "python",
      "pygments_lexer": "ipython3",
      "version": "3.11.9"
    },
    "colab": {
      "provenance": [],
      "include_colab_link": true
    }
  },
  "nbformat": 4,
  "nbformat_minor": 5
}